{
 "cells": [
  {
   "cell_type": "markdown",
   "id": "964c2077",
   "metadata": {},
   "source": [
    "# Assignment of Functions by Swagata Kundu\n",
    "\n",
    "# Theory Questions:"
   ]
  },
  {
   "cell_type": "markdown",
   "id": "a8851ee4",
   "metadata": {},
   "source": [
    "### 1. What is the difference between a function and a method in Python?\n",
    "\n",
    "- A function is a block of code that performs a specific task. Functions can be defined anywhere in the code and can be called independently. They are not associated with any particular object. Functions are created using def keyword\n",
    "   "
   ]
  },
  {
   "cell_type": "code",
   "execution_count": 1,
   "id": "c2003509",
   "metadata": {},
   "outputs": [
    {
     "name": "stdout",
     "output_type": "stream",
     "text": [
      "Hello, Alice!\n"
     ]
    }
   ],
   "source": [
    "  # Example of Function :\n",
    "    \n",
    "def greet(name):\n",
    " return f\"Hello, {name}!\"\n",
    "\n",
    "print(greet(\"Alice\"))"
   ]
  },
  {
   "cell_type": "markdown",
   "id": "2e0e62b1",
   "metadata": {},
   "source": [
    "- A method is similar to a function, but it is associated with an object. Methods are defined within a class and operate on the data contained in that class. They often manipulate the object's internal state or perform operations that are relevant to that object."
   ]
  },
  {
   "cell_type": "code",
   "execution_count": 3,
   "id": "f2b8f10c",
   "metadata": {},
   "outputs": [
    {
     "name": "stdout",
     "output_type": "stream",
     "text": [
      "Hello, Alice!\n"
     ]
    }
   ],
   "source": [
    " # Example of Method :\n",
    "    \n",
    "class Person:\n",
    "    def __init__(self, name):\n",
    "        self.name = name\n",
    "\n",
    "    def greet(self):\n",
    "        return f\"Hello, {self.name}!\"\n",
    "\n",
    "person = Person(\"Alice\")\n",
    "print(person.greet())"
   ]
  },
  {
   "cell_type": "markdown",
   "id": "ab28badf",
   "metadata": {},
   "source": [
    "### 2. Explain the concept of function arguments and parameters in Python.\n",
    "\n",
    "- Parameters are the variables listed inside the parentheses in the function definition. They act as placeholders for the values that will be passed to the function when it is called. They can be thought of as the function's input variables.\n",
    "\n",
    "- Arguments are the actual values that are passed to the function when it is called. These values are assigned to the function's parameters."
   ]
  },
  {
   "cell_type": "code",
   "execution_count": 6,
   "id": "f1a05514",
   "metadata": {},
   "outputs": [],
   "source": [
    "# Example of Parameters:\n",
    "\n",
    "def add_numbers(a, b):\n",
    "    return a + b"
   ]
  },
  {
   "cell_type": "markdown",
   "id": "2a321c9c",
   "metadata": {},
   "source": [
    "- In this example, a and b are parameters. They specify that the add_numbers function takes two inputs."
   ]
  },
  {
   "cell_type": "code",
   "execution_count": 7,
   "id": "d35d6d6f",
   "metadata": {},
   "outputs": [
    {
     "name": "stdout",
     "output_type": "stream",
     "text": [
      "8\n"
     ]
    }
   ],
   "source": [
    "# Example of Arguments:\n",
    "\n",
    "result = add_numbers(3, 5)\n",
    "print(result)"
   ]
  },
  {
   "cell_type": "markdown",
   "id": "dd175c8e",
   "metadata": {},
   "source": [
    "- In this example, 3 and 5 are arguments. They are the values passed to the add_numbers function, and they are assigned to the parameters a and b, respectively."
   ]
  },
  {
   "cell_type": "code",
   "execution_count": null,
   "id": "f454e785",
   "metadata": {},
   "outputs": [],
   "source": []
  },
  {
   "cell_type": "markdown",
   "id": "58637068",
   "metadata": {},
   "source": [
    "### 4. What is the purpose of the `return` statement in a Python function?\n",
    "\n",
    " - The return statement in a Python function is used to exit the function and optionally pass a value back to the caller.\n",
    " \n",
    "   a)  Returning a Value:  The return statement allows a function to send back a value to the code that called it. This value can then be used or stored by the caller.\n",
    " \n",
    " Example : \n",
    " \n",
    "   In this example, the add function returns the sum of a and b, which is then assigned to the variable result.\n"
   ]
  },
  {
   "cell_type": "code",
   "execution_count": 9,
   "id": "4854fc4c",
   "metadata": {},
   "outputs": [
    {
     "name": "stdout",
     "output_type": "stream",
     "text": [
      "8\n"
     ]
    }
   ],
   "source": [
    "def add(a, b):\n",
    "    return a + b\n",
    "\n",
    "result = add(3, 5)\n",
    "print(result)  # Output: 8"
   ]
  },
  {
   "cell_type": "markdown",
   "id": "25c82fbd",
   "metadata": {},
   "source": [
    "    b) Ending Function Execution: When the return statement is executed, the function terminates immediately, andcontrol is returned to the caller. Any code following the return statement within the function is not executed.\n",
    "\n",
    "Example:\n",
    "\n",
    "In this example, if the number is even, the function returns True and exits. If the number is odd, the function returns False and exits. The second return ensures that the function always exits with a value."
   ]
  },
  {
   "cell_type": "code",
   "execution_count": 10,
   "id": "4bb186a6",
   "metadata": {},
   "outputs": [
    {
     "name": "stdout",
     "output_type": "stream",
     "text": [
      "True\n",
      "False\n"
     ]
    }
   ],
   "source": [
    "def check_even(num):\n",
    "    if num % 2 == 0:\n",
    "        return True\n",
    "    return False\n",
    "\n",
    "print(check_even(4))  # Output: True\n",
    "print(check_even(3))"
   ]
  },
  {
   "cell_type": "markdown",
   "id": "aafdf2f1",
   "metadata": {},
   "source": [
    "### 5. What are iterators in Python and how do they differ from iterables?\n",
    "\n",
    "  - An iterable is any Python object capable of returning its members one at a time. Examples include lists, tuples, dictionaries, sets, and even strings. These objects can be iterated over in a loop (e.g., a for loop).\n",
    "\n",
    "Example of an Iterable:"
   ]
  },
  {
   "cell_type": "code",
   "execution_count": 11,
   "id": "f27802bc",
   "metadata": {},
   "outputs": [
    {
     "name": "stdout",
     "output_type": "stream",
     "text": [
      "1\n",
      "2\n",
      "3\n",
      "4\n",
      "5\n"
     ]
    }
   ],
   "source": [
    "my_list = [1, 2, 3, 4, 5]\n",
    "\n",
    "for item in my_list:\n",
    "    print(item)"
   ]
  },
  {
   "cell_type": "markdown",
   "id": "74254dbf",
   "metadata": {},
   "source": [
    "In this example, my_list is an iterable, and the for loop iterates over its elements."
   ]
  },
  {
   "cell_type": "markdown",
   "id": "0a3c90b5",
   "metadata": {},
   "source": [
    "- An iterator is an object representing a stream of data; it returns data, one element at a time, when called with the next() function. An iterator is created from an iterable using the iter() function.\n",
    "\n",
    "Example of an Iterator:"
   ]
  },
  {
   "cell_type": "code",
   "execution_count": 12,
   "id": "5a2341e7",
   "metadata": {},
   "outputs": [
    {
     "name": "stdout",
     "output_type": "stream",
     "text": [
      "1\n",
      "2\n",
      "3\n"
     ]
    }
   ],
   "source": [
    "my_list = [1, 2, 3, 4, 5]\n",
    "my_iterator = iter(my_list)\n",
    "\n",
    "print(next(my_iterator))  # Output: 1\n",
    "print(next(my_iterator))  # Output: 2\n",
    "print(next(my_iterator))  # Output: 3"
   ]
  },
  {
   "cell_type": "markdown",
   "id": "487d1e6e",
   "metadata": {},
   "source": [
    "In this example, my_iterator is an iterator created from the iterable my_list. Using the next() function, we can get elements from the iterator one at a time."
   ]
  },
  {
   "cell_type": "markdown",
   "id": "a5f843aa",
   "metadata": {},
   "source": [
    "### 6. Explain the concept of generators in Python and how they are defined?\n",
    " - Generators in Python are a special type of iterable that allows one to create iterators in a more concise and memory-efficient way. Generators enable one to iterate over potentially large datasets without loading the entire dataset into memory at once. They are defined using the yield keyword.\n",
    "\n",
    "Defining Generators \n",
    " - Generators are defined similarly to regular functions, but instead of using the return statement to return a value, they use the yield statement. When the yield statement is called, the generator function's state is saved, and the value is returned to the caller. The next time the generator is called, it resumes execution from where it left off."
   ]
  },
  {
   "cell_type": "code",
   "execution_count": 13,
   "id": "513d8524",
   "metadata": {},
   "outputs": [
    {
     "name": "stdout",
     "output_type": "stream",
     "text": [
      "1\n",
      "2\n",
      "3\n",
      "4\n",
      "5\n"
     ]
    }
   ],
   "source": [
    "def count_up_to(max_value):\n",
    "    count = 1\n",
    "    while count <= max_value:\n",
    "        yield count\n",
    "        count += 1\n",
    "\n",
    "counter = count_up_to(5)\n",
    "\n",
    "for number in counter:\n",
    "    print(number)"
   ]
  },
  {
   "cell_type": "markdown",
   "id": "7c02eb77",
   "metadata": {},
   "source": [
    "In this example, count_up_to is a generator function that yields numbers from 1 up to max_value. Each call to yield returns a number and suspends the function's execution until the next value is requested."
   ]
  },
  {
   "cell_type": "markdown",
   "id": "e9e3a284",
   "metadata": {},
   "source": [
    "Generator Expressions: \n",
    "Similar to list comprehensions, Python supports generator expressions, which provide a concise way to create generators.\n",
    "\n",
    "Example of a Generator Expression:"
   ]
  },
  {
   "cell_type": "code",
   "execution_count": 14,
   "id": "af6ca7dc",
   "metadata": {},
   "outputs": [
    {
     "name": "stdout",
     "output_type": "stream",
     "text": [
      "0\n",
      "1\n",
      "4\n",
      "9\n",
      "16\n",
      "25\n",
      "36\n",
      "49\n",
      "64\n",
      "81\n"
     ]
    }
   ],
   "source": [
    "squares = (x * x for x in range(10))\n",
    "\n",
    "for square in squares:\n",
    "    print(square)"
   ]
  },
  {
   "cell_type": "markdown",
   "id": "f85ea609",
   "metadata": {},
   "source": [
    "In this example, squares is a generator expression that yields the squares of numbers from 0 to 9."
   ]
  },
  {
   "cell_type": "markdown",
   "id": "0aa874da",
   "metadata": {},
   "source": [
    "### 7.  What are the advantages of using generators over regular functions?\n",
    "\n",
    "\n",
    "Generators offer several advantages over regular functions, especially when dealing with large datasets or streams of data. Here are some key benefits:\n",
    "\n",
    "1. Memory Efficiency: Generators produce items one at a time and only when required, which means they do not need to load the entire   dataset into memory. This is particularly useful for processing large files or data streams.\n",
    "\n",
    "Example:"
   ]
  },
  {
   "cell_type": "code",
   "execution_count": 15,
   "id": "17dc565d",
   "metadata": {},
   "outputs": [],
   "source": [
    "def count_up_to(max_value):\n",
    "    count = 1\n",
    "    while count <= max_value:\n",
    "        yield count\n",
    "        count += 1\n",
    "\n",
    "counter = count_up_to(1000000)  # Efficient memory usage"
   ]
  },
  {
   "cell_type": "markdown",
   "id": "f1c98d70",
   "metadata": {},
   "source": [
    "2. Lazy Evaluation: Values generated by a generator are produced on-the-fly. This means that the values are computed as they are needed, which can save computation time and resources.\n",
    "\n",
    "Example:"
   ]
  },
  {
   "cell_type": "code",
   "execution_count": 16,
   "id": "3d632f0b",
   "metadata": {},
   "outputs": [
    {
     "name": "stdout",
     "output_type": "stream",
     "text": [
      "0\n",
      "1\n"
     ]
    }
   ],
   "source": [
    "def infinite_sequence():\n",
    "    num = 0\n",
    "    while True:\n",
    "        yield num\n",
    "        num += 1\n",
    "\n",
    "seq = infinite_sequence()\n",
    "print(next(seq))  # Output: 0\n",
    "print(next(seq))  # Output: 1"
   ]
  },
  {
   "cell_type": "markdown",
   "id": "bda67d78",
   "metadata": {},
   "source": [
    "3. Improved Performance: Generators can be faster than functions that return lists because they do not have the overhead of storing and accessing intermediate data. They start producing values immediately.\n",
    "\n",
    "Example:"
   ]
  },
  {
   "cell_type": "code",
   "execution_count": 17,
   "id": "b20cbbad",
   "metadata": {},
   "outputs": [],
   "source": [
    "def squares_gen(n):\n",
    "    for i in range(n):\n",
    "        yield i * i\n",
    "\n",
    "squares = squares_gen(1000)  # No large list in memory"
   ]
  },
  {
   "cell_type": "markdown",
   "id": "8be92bcd",
   "metadata": {},
   "source": [
    "4. Simplified Code: Generators can make your code more readable and concise by avoiding the need for intermediate data structures or complex loops.\n",
    "\n",
    "Example:"
   ]
  },
  {
   "cell_type": "code",
   "execution_count": 18,
   "id": "7e3ac05b",
   "metadata": {},
   "outputs": [
    {
     "name": "stdout",
     "output_type": "stream",
     "text": [
      "0\n",
      "1\n",
      "1\n",
      "2\n",
      "3\n",
      "5\n",
      "8\n",
      "13\n",
      "21\n",
      "34\n"
     ]
    }
   ],
   "source": [
    "def fibonacci_sequence():\n",
    "    a, b = 0, 1\n",
    "    while True:\n",
    "        yield a\n",
    "        a, b = b, a + b\n",
    "\n",
    "fib = fibonacci_sequence()\n",
    "for _ in range(10):\n",
    "    print(next(fib))"
   ]
  },
  {
   "cell_type": "markdown",
   "id": "d2580e0a",
   "metadata": {},
   "source": [
    "5. Infinite Sequences: Generators can represent infinite sequences or streams of data that would be impossible to store in memory using regular functions that return lists.\n",
    "\n",
    "Example:"
   ]
  },
  {
   "cell_type": "code",
   "execution_count": 19,
   "id": "7c327991",
   "metadata": {},
   "outputs": [
    {
     "name": "stdout",
     "output_type": "stream",
     "text": [
      "2\n",
      "3\n",
      "5\n",
      "7\n",
      "11\n"
     ]
    }
   ],
   "source": [
    "def prime_numbers():\n",
    "    num = 2\n",
    "    while True:\n",
    "        if all(num % i != 0 for i in range(2, int(num ** 0.5) + 1)):\n",
    "            yield num\n",
    "        num += 1\n",
    "\n",
    "primes = prime_numbers()\n",
    "for _ in range(5):\n",
    "    print(next(primes))"
   ]
  },
  {
   "cell_type": "markdown",
   "id": "fe6b7c20",
   "metadata": {},
   "source": [
    "### 8. What is a lambda function in Python and when is it typically used?\n",
    "\n",
    " - A lambda function in Python is a small, anonymous function defined using the lambda keyword. Unlike regular functions defined with the def keyword, lambda functions are limited to a single expression and do not have a name. They are often used for short, simple operations that are intended to be used temporarily within your code.\n",
    " \n",
    " - Defining Lambda Functions:\n",
    "A lambda function has the following syntax:\n"
   ]
  },
  {
   "cell_type": "code",
   "execution_count": 20,
   "id": "1a4401c2",
   "metadata": {},
   "outputs": [
    {
     "data": {
      "text/plain": [
       "<function __main__.<lambda>(arguments)>"
      ]
     },
     "execution_count": 20,
     "metadata": {},
     "output_type": "execute_result"
    }
   ],
   "source": [
    "lambda arguments: expression"
   ]
  },
  {
   "cell_type": "code",
   "execution_count": 22,
   "id": "6e9b779e",
   "metadata": {},
   "outputs": [
    {
     "name": "stdout",
     "output_type": "stream",
     "text": [
      "5\n",
      "5\n"
     ]
    }
   ],
   "source": [
    "## Example of a Lambda Function:\n",
    "\n",
    "# Regular function\n",
    "def add(x, y):\n",
    "    return x + y\n",
    "\n",
    "# Equivalent lambda function\n",
    "add_lambda = lambda x, y: x + y\n",
    "\n",
    "print(add(2, 3))          # Output: 5\n",
    "print(add_lambda(2, 3))   # Output: 5"
   ]
  },
  {
   "cell_type": "markdown",
   "id": "c7ab854b",
   "metadata": {},
   "source": [
    "In this example, add is a regular function, and add_lambda is a lambda function that performs the same operation. Both return the sum of two numbers."
   ]
  },
  {
   "cell_type": "markdown",
   "id": "3354cb1f",
   "metadata": {},
   "source": [
    "Lambda functions are typically used in the following situations:\n",
    "\n",
    " - Short and Simple Functions: When you need a small, one-time use function without defining a formal function using def. \n",
    " \n",
    " \n",
    "Example:"
   ]
  },
  {
   "cell_type": "code",
   "execution_count": 23,
   "id": "46b47b69",
   "metadata": {},
   "outputs": [
    {
     "name": "stdout",
     "output_type": "stream",
     "text": [
      "16\n"
     ]
    }
   ],
   "source": [
    "square = lambda x: x * x\n",
    "print(square(4))  # Output: 16"
   ]
  },
  {
   "cell_type": "markdown",
   "id": "9e2f96a9",
   "metadata": {},
   "source": [
    " - Higher-Order Functions: When using functions that accept other functions as arguments, such as map(), filter(), and sorted()."
   ]
  },
  {
   "cell_type": "code",
   "execution_count": 24,
   "id": "d0a0e222",
   "metadata": {},
   "outputs": [
    {
     "name": "stdout",
     "output_type": "stream",
     "text": [
      "[1, 4, 9, 16, 25]\n"
     ]
    }
   ],
   "source": [
    "#Example with map():\n",
    "numbers = [1, 2, 3, 4, 5]\n",
    "squared_numbers = map(lambda x: x * x, numbers)\n",
    "print(list(squared_numbers))  # Output: [1, 4, 9, 16, 25]"
   ]
  },
  {
   "cell_type": "code",
   "execution_count": 25,
   "id": "7ffc5b09",
   "metadata": {},
   "outputs": [
    {
     "name": "stdout",
     "output_type": "stream",
     "text": [
      "[2, 4, 6]\n"
     ]
    }
   ],
   "source": [
    "#Example with filter():\n",
    "numbers = [1, 2, 3, 4, 5, 6]\n",
    "even_numbers = filter(lambda x: x % 2 == 0, numbers)\n",
    "print(list(even_numbers))  # Output: [2, 4, 6]"
   ]
  },
  {
   "cell_type": "code",
   "execution_count": 26,
   "id": "e7e9d63c",
   "metadata": {},
   "outputs": [
    {
     "name": "stdout",
     "output_type": "stream",
     "text": [
      "['date', 'apple', 'banana', 'cherry']\n"
     ]
    }
   ],
   "source": [
    "#Example with sorted():\n",
    "words = [\"apple\", \"banana\", \"cherry\", \"date\"]\n",
    "sorted_words = sorted(words, key=lambda x: len(x))\n",
    "print(sorted_words)  # Output: ['date', 'apple', 'banana', 'cherry']"
   ]
  },
  {
   "cell_type": "markdown",
   "id": "9aef05b4",
   "metadata": {},
   "source": [
    " - Inline Functions: When defining a small function within another function or method. \n",
    " \n",
    "Example:"
   ]
  },
  {
   "cell_type": "code",
   "execution_count": 27,
   "id": "00abc6a2",
   "metadata": {},
   "outputs": [
    {
     "name": "stdout",
     "output_type": "stream",
     "text": [
      "20\n"
     ]
    }
   ],
   "source": [
    "def apply_function(x, func):\n",
    "    return func(x)\n",
    "\n",
    "result = apply_function(10, lambda y: y * 2)\n",
    "print(result)  # Output: 20"
   ]
  },
  {
   "cell_type": "markdown",
   "id": "5b262760",
   "metadata": {},
   "source": [
    "### 9. Explain the purpose and usage of the `map()` function in Python.\n",
    "\n",
    "The map() function in Python is used to apply a specified function to each item in an iterable (such as a list, tuple, or set) and return a new iterable with the results. It provides a concise way to perform element-wise operations on iterables without writing explicit loops.\n",
    "\n",
    "Purpose of map(): \n",
    "The primary purpose of the map() function is to transform each element of an iterable according to a given function. This can be especially useful for performing batch operations or transformations on large datasets.\n",
    "\n",
    "\n",
    "Example of Using map()\n",
    "\n",
    "Example 1: Applying a Function to a List\n"
   ]
  },
  {
   "cell_type": "code",
   "execution_count": 28,
   "id": "7be5cb2c",
   "metadata": {},
   "outputs": [
    {
     "name": "stdout",
     "output_type": "stream",
     "text": [
      "[1, 4, 9, 16, 25]\n"
     ]
    }
   ],
   "source": [
    "def square(x):\n",
    "    return x * x\n",
    "\n",
    "numbers = [1, 2, 3, 4, 5]\n",
    "squared_numbers = map(square, numbers)\n",
    "\n",
    "print(list(squared_numbers))  # Output: [1, 4, 9, 16, 25]"
   ]
  },
  {
   "cell_type": "markdown",
   "id": "3bfd0c82",
   "metadata": {},
   "source": [
    "In this example, the square function is applied to each element in the numbers list, resulting in a new list of squared numbers.\n",
    "\n",
    "Example 2: Using Lambda Functions with map()"
   ]
  },
  {
   "cell_type": "code",
   "execution_count": 29,
   "id": "6bb8f0f0",
   "metadata": {},
   "outputs": [
    {
     "name": "stdout",
     "output_type": "stream",
     "text": [
      "[1, 4, 9, 16, 25]\n"
     ]
    }
   ],
   "source": [
    "umbers = [1, 2, 3, 4, 5]\n",
    "squared_numbers = map(lambda x: x * x, numbers)\n",
    "\n",
    "print(list(squared_numbers))  # Output: [1, 4, 9, 16, 25]"
   ]
  },
  {
   "cell_type": "markdown",
   "id": "cc707e87",
   "metadata": {},
   "source": [
    "In this example, a lambda function is used to achieve the same result as before, but with a more concise syntax."
   ]
  },
  {
   "cell_type": "markdown",
   "id": "cf2d18db",
   "metadata": {},
   "source": [
    "### 10. What is the difference between `map()`, `reduce()`, and `filter()` functions in Python?\n",
    "\n",
    "map(), reduce(), and filter() are higher-order functions in Python that facilitate functional programming. They each serve different purposes and are utilized in distinct ways:\n",
    "\n",
    "#### map()\n",
    "\n",
    "Purpose: Applies a given function to each item in an iterable (such as a list) and returns a new iterable with the results.\n",
    "\n",
    "\n",
    "Example:\n"
   ]
  },
  {
   "cell_type": "code",
   "execution_count": 31,
   "id": "5f39df12",
   "metadata": {},
   "outputs": [
    {
     "name": "stdout",
     "output_type": "stream",
     "text": [
      "[1, 4, 9, 16, 25]\n"
     ]
    }
   ],
   "source": [
    "def square(x):\n",
    "    return x * x\n",
    "\n",
    "numbers = [1, 2, 3, 4, 5]\n",
    "squared_numbers = map(square, numbers)\n",
    "print(list(squared_numbers))  # Output: [1, 4, 9, 16, 25]"
   ]
  },
  {
   "cell_type": "markdown",
   "id": "ed4e373d",
   "metadata": {},
   "source": [
    "#### filter()\n",
    "\n",
    "Purpose: Filters items in an iterable based on a function that returns True or False. Only items for which the function returns True are included in the new iterable.\n",
    "\n",
    "\n",
    "Example:"
   ]
  },
  {
   "cell_type": "code",
   "execution_count": 32,
   "id": "d3815a38",
   "metadata": {},
   "outputs": [
    {
     "name": "stdout",
     "output_type": "stream",
     "text": [
      "[2, 4, 6]\n"
     ]
    }
   ],
   "source": [
    "def is_even(x):\n",
    "    return x % 2 == 0\n",
    "\n",
    "numbers = [1, 2, 3, 4, 5, 6]\n",
    "even_numbers = filter(is_even, numbers)\n",
    "print(list(even_numbers))  # Output: [2, 4, 6]"
   ]
  },
  {
   "cell_type": "markdown",
   "id": "c8190bbe",
   "metadata": {},
   "source": [
    "#### reduce()\n",
    "\n",
    "Purpose: Applies a function to pairs of items in an iterable, cumulatively reducing the iterable to a single value. It is part of the functools module, so you need to import it first.\n",
    "\n",
    "\n",
    "Example:"
   ]
  },
  {
   "cell_type": "code",
   "execution_count": 33,
   "id": "2bbef149",
   "metadata": {},
   "outputs": [
    {
     "name": "stdout",
     "output_type": "stream",
     "text": [
      "15\n"
     ]
    }
   ],
   "source": [
    "from functools import reduce\n",
    "\n",
    "def add(x, y):\n",
    "    return x + y\n",
    "\n",
    "numbers = [1, 2, 3, 4, 5]\n",
    "total = reduce(add, numbers)\n",
    "print(total)  # Output: 15"
   ]
  },
  {
   "cell_type": "markdown",
   "id": "e2ca7f49",
   "metadata": {},
   "source": [
    "### 11. Using pen & Paper write the internal mechanism for sum operation using reduce function on this given list:[47,11,42,13];"
   ]
  },
  {
   "cell_type": "markdown",
   "id": "d18007c1",
   "metadata": {},
   "source": []
  },
  {
   "cell_type": "markdown",
   "id": "078b8b94",
   "metadata": {},
   "source": [
    "# Practical Questions:"
   ]
  },
  {
   "cell_type": "markdown",
   "id": "965065b3",
   "metadata": {},
   "source": [
    "### 1.Write a Python function that takes a list of numbers as input and returns the sum of all even numbers in the list."
   ]
  },
  {
   "cell_type": "code",
   "execution_count": 35,
   "id": "742e7f94",
   "metadata": {},
   "outputs": [
    {
     "name": "stdout",
     "output_type": "stream",
     "text": [
      "12\n"
     ]
    }
   ],
   "source": [
    "def sum_even_numbers(numbers):\n",
    "    total = 0\n",
    "    for num in numbers:\n",
    "        if num % 2 == 0:\n",
    "            total += num\n",
    "    return total\n",
    "\n",
    "# Example usage:\n",
    "numbers = [1, 2, 3, 4, 5, 6]\n",
    "result = sum_even_numbers(numbers)\n",
    "print(result)  "
   ]
  },
  {
   "cell_type": "markdown",
   "id": "29c6db29",
   "metadata": {},
   "source": [
    "### 2. Create a Python function that accepts a string and returns the reverse of that string.\n",
    "\n"
   ]
  },
  {
   "cell_type": "code",
   "execution_count": 38,
   "id": "f8d22d8e",
   "metadata": {},
   "outputs": [
    {
     "name": "stdout",
     "output_type": "stream",
     "text": [
      "atagawS\n"
     ]
    }
   ],
   "source": [
    "def reverse_string(input_string):\n",
    "    return input_string[::-1]\n",
    "\n",
    "# Example usage:\n",
    "original_string = \"Swagata\"\n",
    "reversed_string = reverse_string(original_string)\n",
    "print(reversed_string)  "
   ]
  },
  {
   "cell_type": "markdown",
   "id": "61cf3cc9",
   "metadata": {},
   "source": [
    "### 3. Implement a Python function that takes a list of integers and returns a new list containing the squares of each number.\n"
   ]
  },
  {
   "cell_type": "code",
   "execution_count": 40,
   "id": "17b23a92",
   "metadata": {},
   "outputs": [
    {
     "name": "stdout",
     "output_type": "stream",
     "text": [
      "[1, 4, 9, 16, 25]\n"
     ]
    }
   ],
   "source": [
    "def square_numbers(numbers):\n",
    "    squared_numbers = [num ** 2 for num in numbers]\n",
    "    return squared_numbers\n",
    "\n",
    "# Example usage:\n",
    "numbers = [1, 2, 3, 4, 5]\n",
    "result = square_numbers(numbers)\n",
    "print(result)  "
   ]
  },
  {
   "cell_type": "markdown",
   "id": "0a2a8f1a",
   "metadata": {},
   "source": [
    "### 4. Write a Python function that checks if a given number is prime or not from 1 to 200.\n",
    "\n"
   ]
  },
  {
   "cell_type": "code",
   "execution_count": 43,
   "id": "f5321d52",
   "metadata": {},
   "outputs": [
    {
     "name": "stdout",
     "output_type": "stream",
     "text": [
      "Enter a number (1-200): 20\n",
      "20 is not a prime number.\n"
     ]
    }
   ],
   "source": [
    "def is_prime(n):\n",
    "    \n",
    "    if n < 2 or n > 200:\n",
    "        return False  # Numbers less than 2 and greater than 200 are not considered\n",
    "\n",
    "    for i in range(2, int(n**0.5) + 1):\n",
    "        if n % i == 0:\n",
    "            return False  # Not a prime number\n",
    "    return True  # Prime number\n",
    "\n",
    "# Example usage\n",
    "num = int(input(\"Enter a number (1-200): \"))\n",
    "if is_prime(num):\n",
    "    print(f\"{num} is a prime number.\")\n",
    "else:\n",
    "    print(f\"{num} is not a prime number.\")"
   ]
  },
  {
   "cell_type": "markdown",
   "id": "21c29650",
   "metadata": {},
   "source": [
    "### 5. Create an iterator class in Python that generates the Fibonacci sequence up to a specified number of terms.\n"
   ]
  },
  {
   "cell_type": "code",
   "execution_count": 44,
   "id": "1686653c",
   "metadata": {},
   "outputs": [
    {
     "name": "stdout",
     "output_type": "stream",
     "text": [
      "0\n",
      "1\n",
      "1\n",
      "2\n",
      "3\n",
      "5\n",
      "8\n",
      "13\n",
      "21\n",
      "34\n"
     ]
    }
   ],
   "source": [
    "class FibonacciIterator:\n",
    "    def __init__(self, max_terms):\n",
    "        self.max_terms = max_terms\n",
    "        self.current_term = 0\n",
    "        self.a = 0\n",
    "        self.b = 1\n",
    "\n",
    "    def __iter__(self):\n",
    "        return self\n",
    "\n",
    "    def __next__(self):\n",
    "        if self.current_term >= self.max_terms:\n",
    "            raise StopIteration\n",
    "\n",
    "        if self.current_term == 0:\n",
    "            self.current_term += 1\n",
    "            return self.a\n",
    "        elif self.current_term == 1:\n",
    "            self.current_term += 1\n",
    "            return self.b\n",
    "\n",
    "        self.current_term += 1\n",
    "        next_value = self.a + self.b\n",
    "        self.a, self.b = self.b, next_value\n",
    "        return next_value\n",
    "\n",
    "# Example usage:\n",
    "fib_iterator = FibonacciIterator(10)\n",
    "for fib_number in fib_iterator:\n",
    "    print(fib_number)"
   ]
  },
  {
   "cell_type": "markdown",
   "id": "7e6a7020",
   "metadata": {},
   "source": [
    "### 6. Write a generator function in Python that yields the powers of 2 up to a given exponent.\n"
   ]
  },
  {
   "cell_type": "code",
   "execution_count": 45,
   "id": "04a82879",
   "metadata": {},
   "outputs": [
    {
     "name": "stdout",
     "output_type": "stream",
     "text": [
      "1\n",
      "2\n",
      "4\n",
      "8\n",
      "16\n",
      "32\n"
     ]
    }
   ],
   "source": [
    "def powers_of_2(max_exponent):\n",
    "    for exponent in range(max_exponent + 1):\n",
    "        yield 2 ** exponent\n",
    "\n",
    "# Example usage:\n",
    "max_exponent = 5\n",
    "for power in powers_of_2(max_exponent):\n",
    "    print(power)\n"
   ]
  },
  {
   "cell_type": "markdown",
   "id": "ec82b8c8",
   "metadata": {},
   "source": [
    "### 7. Implement a generator function that reads a file line by line and yields each line as a string.\n"
   ]
  },
  {
   "cell_type": "code",
   "execution_count": 47,
   "id": "55578ebf",
   "metadata": {},
   "outputs": [
    {
     "ename": "FileNotFoundError",
     "evalue": "[Errno 2] No such file or directory: 'example.txt'",
     "output_type": "error",
     "traceback": [
      "\u001b[0;31m---------------------------------------------------------------------------\u001b[0m",
      "\u001b[0;31mFileNotFoundError\u001b[0m                         Traceback (most recent call last)",
      "\u001b[0;32m/tmp/ipykernel_267819/1295306848.py\u001b[0m in \u001b[0;36m<module>\u001b[0;34m\u001b[0m\n\u001b[1;32m      6\u001b[0m \u001b[0;31m# Example usage:\u001b[0m\u001b[0;34m\u001b[0m\u001b[0;34m\u001b[0m\u001b[0;34m\u001b[0m\u001b[0m\n\u001b[1;32m      7\u001b[0m \u001b[0mfile_path\u001b[0m \u001b[0;34m=\u001b[0m \u001b[0;34m'example.txt'\u001b[0m\u001b[0;34m\u001b[0m\u001b[0;34m\u001b[0m\u001b[0m\n\u001b[0;32m----> 8\u001b[0;31m \u001b[0;32mfor\u001b[0m \u001b[0mline\u001b[0m \u001b[0;32min\u001b[0m \u001b[0mread_file_line_by_line\u001b[0m\u001b[0;34m(\u001b[0m\u001b[0mfile_path\u001b[0m\u001b[0;34m)\u001b[0m\u001b[0;34m:\u001b[0m\u001b[0;34m\u001b[0m\u001b[0;34m\u001b[0m\u001b[0m\n\u001b[0m\u001b[1;32m      9\u001b[0m     \u001b[0mprint\u001b[0m\u001b[0;34m(\u001b[0m\u001b[0mline\u001b[0m\u001b[0;34m)\u001b[0m\u001b[0;34m\u001b[0m\u001b[0;34m\u001b[0m\u001b[0m\n",
      "\u001b[0;32m/tmp/ipykernel_267819/1295306848.py\u001b[0m in \u001b[0;36mread_file_line_by_line\u001b[0;34m(file_path)\u001b[0m\n\u001b[1;32m      1\u001b[0m \u001b[0;32mdef\u001b[0m \u001b[0mread_file_line_by_line\u001b[0m\u001b[0;34m(\u001b[0m\u001b[0mfile_path\u001b[0m\u001b[0;34m)\u001b[0m\u001b[0;34m:\u001b[0m\u001b[0;34m\u001b[0m\u001b[0;34m\u001b[0m\u001b[0m\n\u001b[0;32m----> 2\u001b[0;31m     \u001b[0;32mwith\u001b[0m \u001b[0mopen\u001b[0m\u001b[0;34m(\u001b[0m\u001b[0mfile_path\u001b[0m\u001b[0;34m,\u001b[0m \u001b[0;34m'r'\u001b[0m\u001b[0;34m)\u001b[0m \u001b[0;32mas\u001b[0m \u001b[0mfile\u001b[0m\u001b[0;34m:\u001b[0m\u001b[0;34m\u001b[0m\u001b[0;34m\u001b[0m\u001b[0m\n\u001b[0m\u001b[1;32m      3\u001b[0m         \u001b[0;32mfor\u001b[0m \u001b[0mline\u001b[0m \u001b[0;32min\u001b[0m \u001b[0mfile\u001b[0m\u001b[0;34m:\u001b[0m\u001b[0;34m\u001b[0m\u001b[0;34m\u001b[0m\u001b[0m\n\u001b[1;32m      4\u001b[0m             \u001b[0;32myield\u001b[0m \u001b[0mline\u001b[0m\u001b[0;34m.\u001b[0m\u001b[0mstrip\u001b[0m\u001b[0;34m(\u001b[0m\u001b[0;34m)\u001b[0m\u001b[0;34m\u001b[0m\u001b[0;34m\u001b[0m\u001b[0m\n\u001b[1;32m      5\u001b[0m \u001b[0;34m\u001b[0m\u001b[0m\n",
      "\u001b[0;31mFileNotFoundError\u001b[0m: [Errno 2] No such file or directory: 'example.txt'"
     ]
    }
   ],
   "source": [
    "def read_file_line_by_line(file_path):\n",
    "    with open(file_path, 'r') as file:\n",
    "        for line in file:\n",
    "            yield line.strip()\n",
    "\n",
    "# Example usage:\n",
    "file_path = 'x.txt'\n",
    "for line in read_file_line_by_line(file_path):\n",
    "    print(line)\n"
   ]
  },
  {
   "cell_type": "markdown",
   "id": "241a3c38",
   "metadata": {},
   "source": [
    "### 8. Use a lambda function in Python to sort a list of tuples based on the second element of each tuple.\n"
   ]
  },
  {
   "cell_type": "code",
   "execution_count": 48,
   "id": "1640ee57",
   "metadata": {},
   "outputs": [
    {
     "name": "stdout",
     "output_type": "stream",
     "text": [
      "[(4, 1), (5, 2), (1, 3), (2, 4)]\n"
     ]
    }
   ],
   "source": [
    "# List of tuples\n",
    "tuples_list = [(1, 3), (4, 1), (5, 2), (2, 4)]\n",
    "\n",
    "# Sort the list of tuples based on the second element\n",
    "sorted_list = sorted(tuples_list, key=lambda x: x[1])\n",
    "\n",
    "print(sorted_list)\n"
   ]
  },
  {
   "cell_type": "markdown",
   "id": "c3ee1b97",
   "metadata": {},
   "source": [
    "### 9. Write a Python program that uses `map()` to convert a list of temperatures from Celsius to Fahrenheit.\n"
   ]
  },
  {
   "cell_type": "code",
   "execution_count": 49,
   "id": "344d44e4",
   "metadata": {},
   "outputs": [
    {
     "name": "stdout",
     "output_type": "stream",
     "text": [
      "[32.0, 68.0, 86.0, 104.0, 212.0]\n"
     ]
    }
   ],
   "source": [
    "# Function to convert Celsius to Fahrenheit\n",
    "def celsius_to_fahrenheit(celsius):\n",
    "    return (celsius * 9/5) + 32\n",
    "\n",
    "# List of temperatures in Celsius\n",
    "celsius_temperatures = [0, 20, 30, 40, 100]\n",
    "\n",
    "# Use map to convert each temperature to Fahrenheit\n",
    "fahrenheit_temperatures = list(map(celsius_to_fahrenheit, celsius_temperatures))\n",
    "\n",
    "# Print the list of temperatures in Fahrenheit\n",
    "print(fahrenheit_temperatures)"
   ]
  },
  {
   "cell_type": "markdown",
   "id": "c031886a",
   "metadata": {},
   "source": [
    "### 10. Create a Python program that uses `filter()` to remove all the vowels from a given string.\n",
    "\n"
   ]
  },
  {
   "cell_type": "code",
   "execution_count": 50,
   "id": "a9e5f788",
   "metadata": {},
   "outputs": [
    {
     "name": "stdout",
     "output_type": "stream",
     "text": [
      "Hll, wrld!\n"
     ]
    }
   ],
   "source": [
    "def remove_vowels(input_string):\n",
    "    vowels = \"aeiouAEIOU\"\n",
    "    return ''.join(filter(lambda x: x not in vowels, input_string))\n",
    "\n",
    "# Example usage:\n",
    "input_string = \"Hello, world!\"\n",
    "result = remove_vowels(input_string)\n",
    "print(result)  # Output: \"Hll, wrld!\n"
   ]
  },
  {
   "cell_type": "markdown",
   "id": "2086b60e",
   "metadata": {},
   "source": [
    "### 11. Imagine an accounting routine used in a book shop. It works on a list with sublists, which look like this:\n",
    "   ### Write a Python program, which returns a list with 2-tuples. Each tuple consists of the order number and the\n",
    "  ### product of the price per item and the quantity. The product should be increased by 10,- € if the value of the\n",
    "### order is smaller than 100,00 €.\n",
    "\n",
    "  ### Write a Python program using lambda and map.\n",
    "\n"
   ]
  },
  {
   "cell_type": "code",
   "execution_count": 51,
   "id": "5d0b5fbf",
   "metadata": {},
   "outputs": [
    {
     "name": "stdout",
     "output_type": "stream",
     "text": [
      "[(34587, 28.0), (98762, 38.75), (77226, 94.0), (88112, 58.0)]\n"
     ]
    }
   ],
   "source": [
    "# Sample list of orders (order number, book title, quantity, price)\n",
    "orders = [\n",
    "    [34587, \"Learning Python\", 4, 4.50],\n",
    "    [98762, \"Automate the Boring Stuff with Python\", 5, 5.75],\n",
    "    [77226, \"Python Data Science Handbook\", 7, 12.00],\n",
    "    [88112, \"Fluent Python\", 8, 6.00]\n",
    "]\n",
    "\n",
    "# Function to calculate the total cost with the additional charge if needed\n",
    "calculate_cost = lambda order: (\n",
    "    order[0], \n",
    "    order[2] * order[3] + 10 if order[2] * order[3] < 100 else order[2] * order[3]\n",
    ")\n",
    "\n",
    "# Apply the function to the list of orders using map\n",
    "result = list(map(calculate_cost, orders))\n",
    "\n",
    "# Print the result\n",
    "print(result)\n",
    "\n"
   ]
  },
  {
   "cell_type": "code",
   "execution_count": null,
   "id": "9c3a3bfd",
   "metadata": {},
   "outputs": [],
   "source": []
  }
 ],
 "metadata": {
  "kernelspec": {
   "display_name": "Python 3 (ipykernel)",
   "language": "python",
   "name": "python3"
  },
  "language_info": {
   "codemirror_mode": {
    "name": "ipython",
    "version": 3
   },
   "file_extension": ".py",
   "mimetype": "text/x-python",
   "name": "python",
   "nbconvert_exporter": "python",
   "pygments_lexer": "ipython3",
   "version": "3.7.16"
  }
 },
 "nbformat": 4,
 "nbformat_minor": 5
}
